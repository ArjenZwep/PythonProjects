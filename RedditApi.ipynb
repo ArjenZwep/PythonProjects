{
 "cells": [
  {
   "cell_type": "code",
   "execution_count": 2,
   "metadata": {},
   "outputs": [],
   "source": [
    "#import different libary's needed\n",
    "\n",
    "import praw\n",
    "import pandas as pd\n",
    "import time"
   ]
  },
  {
   "cell_type": "code",
   "execution_count": 3,
   "metadata": {},
   "outputs": [],
   "source": [
    "#login api reddit client\n",
    "\n",
    "CLIENT_ID = \"iL1WH1iZl3Q9eg\"\n",
    "CLIENT_SECRET = \"av33tHFK7E059VrVLWYGgzv_OB0\"\n",
    "USER_AGENT = f\"python:{CLIENT_ID}:0.1 (by /u/mainmancudi)\""
   ]
  },
  {
   "cell_type": "code",
   "execution_count": 4,
   "metadata": {},
   "outputs": [
    {
     "data": {
      "text/plain": [
       "True"
      ]
     },
     "execution_count": 4,
     "metadata": {},
     "output_type": "execute_result"
    }
   ],
   "source": [
    "#import api\n",
    "\n",
    "api = praw.Reddit(\n",
    "    client_id = CLIENT_ID,\n",
    "    client_secret = CLIENT_SECRET,\n",
    "    user_agent = USER_AGENT\n",
    ")\n",
    "api.read_only"
   ]
  },
  {
   "cell_type": "code",
   "execution_count": 5,
   "metadata": {},
   "outputs": [],
   "source": [
    "#get 500 top submissions from chosen subreddit and get items in list\n",
    "list_empty = []\n",
    "for submission in api.subreddit('leagueoflegends').hot(limit=500):\n",
    "    item = {\n",
    "        \"score\" : submission.score,\n",
    "        \"num_comments\" : submission.num_comments,\n",
    "        \"title\" : submission.title,\n",
    "        \"author_name\" : submission.author,\n",
    "        \"time\" : time.ctime(submission.created_utc),\n",
    "        \"id\" : submission.id\n",
    "\n",
    "    }\n",
    "    list_empty.append(item)"
   ]
  },
  {
   "cell_type": "code",
   "execution_count": 6,
   "metadata": {},
   "outputs": [
    {
     "data": {
      "text/html": [
       "<div>\n",
       "<style scoped>\n",
       "    .dataframe tbody tr th:only-of-type {\n",
       "        vertical-align: middle;\n",
       "    }\n",
       "\n",
       "    .dataframe tbody tr th {\n",
       "        vertical-align: top;\n",
       "    }\n",
       "\n",
       "    .dataframe thead th {\n",
       "        text-align: right;\n",
       "    }\n",
       "</style>\n",
       "<table border=\"1\" class=\"dataframe\">\n",
       "  <thead>\n",
       "    <tr style=\"text-align: right;\">\n",
       "      <th></th>\n",
       "      <th>author_name</th>\n",
       "      <th>id</th>\n",
       "      <th>num_comments</th>\n",
       "      <th>score</th>\n",
       "      <th>time</th>\n",
       "      <th>title</th>\n",
       "    </tr>\n",
       "  </thead>\n",
       "  <tbody>\n",
       "    <tr>\n",
       "      <th>0</th>\n",
       "      <td>AutoModerator</td>\n",
       "      <td>9u9p75</td>\n",
       "      <td>24</td>\n",
       "      <td>21</td>\n",
       "      <td>Mon Nov  5 03:33:18 2018</td>\n",
       "      <td>Monday Megathread! Ask questions and share kno...</td>\n",
       "    </tr>\n",
       "    <tr>\n",
       "      <th>1</th>\n",
       "      <td>sarahbotts</td>\n",
       "      <td>9tuvnv</td>\n",
       "      <td>6</td>\n",
       "      <td>112</td>\n",
       "      <td>Sat Nov  3 16:16:36 2018</td>\n",
       "      <td>Our 24-hour Extra Life stream featuring Mods v...</td>\n",
       "    </tr>\n",
       "    <tr>\n",
       "      <th>2</th>\n",
       "      <td>timeistemporary</td>\n",
       "      <td>9ub8k1</td>\n",
       "      <td>262</td>\n",
       "      <td>1125</td>\n",
       "      <td>Mon Nov  5 07:26:13 2018</td>\n",
       "      <td>MikeYeung leaving TSM, leaves farewell note on...</td>\n",
       "    </tr>\n",
       "    <tr>\n",
       "      <th>3</th>\n",
       "      <td>topkeklul</td>\n",
       "      <td>9u8u4p</td>\n",
       "      <td>937</td>\n",
       "      <td>2232</td>\n",
       "      <td>Mon Nov  5 01:37:14 2018</td>\n",
       "      <td>Coach of UOL about Youngbuck</td>\n",
       "    </tr>\n",
       "    <tr>\n",
       "      <th>4</th>\n",
       "      <td>burizar</td>\n",
       "      <td>9u6nbl</td>\n",
       "      <td>1518</td>\n",
       "      <td>5835</td>\n",
       "      <td>Sun Nov  4 21:11:59 2018</td>\n",
       "      <td>G2 Wunder: \"I think that FNC reached their goa...</td>\n",
       "    </tr>\n",
       "  </tbody>\n",
       "</table>\n",
       "</div>"
      ],
      "text/plain": [
       "       author_name      id  num_comments  score                      time  \\\n",
       "0    AutoModerator  9u9p75            24     21  Mon Nov  5 03:33:18 2018   \n",
       "1       sarahbotts  9tuvnv             6    112  Sat Nov  3 16:16:36 2018   \n",
       "2  timeistemporary  9ub8k1           262   1125  Mon Nov  5 07:26:13 2018   \n",
       "3        topkeklul  9u8u4p           937   2232  Mon Nov  5 01:37:14 2018   \n",
       "4          burizar  9u6nbl          1518   5835  Sun Nov  4 21:11:59 2018   \n",
       "\n",
       "                                               title  \n",
       "0  Monday Megathread! Ask questions and share kno...  \n",
       "1  Our 24-hour Extra Life stream featuring Mods v...  \n",
       "2  MikeYeung leaving TSM, leaves farewell note on...  \n",
       "3                       Coach of UOL about Youngbuck  \n",
       "4  G2 Wunder: \"I think that FNC reached their goa...  "
      ]
     },
     "execution_count": 6,
     "metadata": {},
     "output_type": "execute_result"
    }
   ],
   "source": [
    "#make the panda dataframe and show the first 5 items\n",
    "\n",
    "df = pd.DataFrame(list_empty)\n",
    "df.head()"
   ]
  },
  {
   "cell_type": "code",
   "execution_count": 7,
   "metadata": {},
   "outputs": [
    {
     "data": {
      "text/plain": [
       "corylulu        5\n",
       "SairesArt       3\n",
       "lollideath      3\n",
       "Dominicu104     3\n",
       "bbjimin         3\n",
       "sarahbotts      3\n",
       "SummonerJoey    3\n",
       "sr_united_sr    3\n",
       "02949685968     2\n",
       "Vulkanodox      2\n",
       "Name: author_name, dtype: int64"
      ]
     },
     "execution_count": 7,
     "metadata": {},
     "output_type": "execute_result"
    }
   ],
   "source": [
    "#read out top authors\n",
    "\n",
    "df2 = df[\"author_name\"].value_counts().head(10)\n",
    "df2"
   ]
  },
  {
   "cell_type": "code",
   "execution_count": 8,
   "metadata": {},
   "outputs": [
    {
     "data": {
      "text/plain": [
       "<matplotlib.axes._subplots.AxesSubplot at 0x1967d6b8ac8>"
      ]
     },
     "execution_count": 8,
     "metadata": {},
     "output_type": "execute_result"
    }
   ],
   "source": [
    "#plotting the score en comments hist\n",
    "\n",
    "df.plot(y = [\"score\", \"num_comments\"], kind = \"hist\", bins = 10)"
   ]
  },
  {
   "cell_type": "code",
   "execution_count": 9,
   "metadata": {},
   "outputs": [],
   "source": [
    "#splitting the time in hours and getting the hours in a list\n",
    "\n",
    "time = pd.Series(df.time)\n",
    "split_time = time.str.split(\" \")\n",
    "day_time = []\n",
    "index = 0\n",
    "for day in split_time:\n",
    "    hour = day[3].split(\":\")\n",
    "    hour = hour[0]\n",
    "    day_time.append(int(hour))\n",
    "    index = index + 1\n",
    "df3 = pd.DataFrame(day_time)\n"
   ]
  },
  {
   "cell_type": "code",
   "execution_count": 10,
   "metadata": {},
   "outputs": [
    {
     "data": {
      "text/plain": [
       "<matplotlib.axes._subplots.AxesSubplot at 0x1967dbe4320>"
      ]
     },
     "execution_count": 10,
     "metadata": {},
     "output_type": "execute_result"
    },
    {
     "data": {
      "image/png": "[encoded data removed]",
      "text/plain": [
       "<Figure size 432x288 with 1 Axes>"
      ]
     },
     "metadata": {},
     "output_type": "display_data"
    }
   ],
   "source": [
    "#plotting the time graph\n",
    "\n",
    "df3.head(23).plot()"
   ]
  },
  {
   "cell_type": "code",
   "execution_count": 18,
   "metadata": {},
   "outputs": [
    {
     "data": {
      "text/plain": [
       "'9tszu7'"
      ]
     },
     "execution_count": 18,
     "metadata": {},
     "output_type": "execute_result"
    }
   ],
   "source": [
    "#find submission with highest amount of comments and convert id to readable string\n",
    "\n",
    "comments_high = df.sort_values(\"num_comments\", ascending = False).head(1)\n",
    "comments_high = comments_high[\"id\"]\n",
    "comments_high = str(comments_high)\n",
    "comments_high = comments_high[7:13]\n",
    "comments_high"
   ]
  },
  {
   "cell_type": "code",
   "execution_count": 19,
   "metadata": {},
   "outputs": [],
   "source": [
    "#scrape submission for comments and putting it in a dataframe\n",
    "\n",
    "submission = api.submission(id = comments_high)\n",
    "comments_list = []\n",
    "for comment in submission.comments:\n",
    "    if isinstance(comment, praw.models.MoreComments):\n",
    "        continue\n",
    "    comments_list.append({\n",
    "                   \"body\" : comment.body[0:100],\n",
    "                   \"score\" : comment.score,\n",
    "                   \"author\" : str(comment.author)\n",
    "               })\n",
    "df4 = pd.DataFrame(comments_list)"
   ]
  },
  {
   "cell_type": "code",
   "execution_count": 20,
   "metadata": {},
   "outputs": [
    {
     "data": {
      "text/html": [
       "<div>\n",
       "<style scoped>\n",
       "    .dataframe tbody tr th:only-of-type {\n",
       "        vertical-align: middle;\n",
       "    }\n",
       "\n",
       "    .dataframe tbody tr th {\n",
       "        vertical-align: top;\n",
       "    }\n",
       "\n",
       "    .dataframe thead th {\n",
       "        text-align: right;\n",
       "    }\n",
       "</style>\n",
       "<table border=\"1\" class=\"dataframe\">\n",
       "  <thead>\n",
       "    <tr style=\"text-align: right;\">\n",
       "      <th></th>\n",
       "      <th>author</th>\n",
       "      <th>body</th>\n",
       "      <th>score</th>\n",
       "    </tr>\n",
       "  </thead>\n",
       "  <tbody>\n",
       "    <tr>\n",
       "      <th>0</th>\n",
       "      <td>PuppiesbyPound</td>\n",
       "      <td>[Game 1 IG 1-0 FNC](https://www.reddit.com/r/l...</td>\n",
       "      <td>1</td>\n",
       "    </tr>\n",
       "    <tr>\n",
       "      <th>1</th>\n",
       "      <td>mybankpin</td>\n",
       "      <td>Rookie with the jebait. Riot brings in a Korea...</td>\n",
       "      <td>2205</td>\n",
       "    </tr>\n",
       "    <tr>\n",
       "      <th>2</th>\n",
       "      <td>Gaelenmyr</td>\n",
       "      <td>im disappointed because they were outclassed, ...</td>\n",
       "      <td>5275</td>\n",
       "    </tr>\n",
       "    <tr>\n",
       "      <th>3</th>\n",
       "      <td>GambitTheBest</td>\n",
       "      <td>Duke quietly getting another world championshi...</td>\n",
       "      <td>1389</td>\n",
       "    </tr>\n",
       "    <tr>\n",
       "      <th>4</th>\n",
       "      <td>Gumisiek</td>\n",
       "      <td>Bwipo: \"Honestly, watching this Worlds, I feel...</td>\n",
       "      <td>3227</td>\n",
       "    </tr>\n",
       "  </tbody>\n",
       "</table>\n",
       "</div>"
      ],
      "text/plain": [
       "           author                                               body  score\n",
       "0  PuppiesbyPound  [Game 1 IG 1-0 FNC](https://www.reddit.com/r/l...      1\n",
       "1       mybankpin  Rookie with the jebait. Riot brings in a Korea...   2205\n",
       "2       Gaelenmyr  im disappointed because they were outclassed, ...   5275\n",
       "3   GambitTheBest  Duke quietly getting another world championshi...   1389\n",
       "4        Gumisiek  Bwipo: \"Honestly, watching this Worlds, I feel...   3227"
      ]
     },
     "execution_count": 20,
     "metadata": {},
     "output_type": "execute_result"
    }
   ],
   "source": [
    "#showing first 5 items from new dataframe\n",
    "\n",
    "df4.head()"
   ]
  },
  {
   "cell_type": "code",
   "execution_count": 21,
   "metadata": {},
   "outputs": [
    {
     "data": {
      "text/plain": [
       "author\n",
       "NetSraC1306       6401\n",
       "Gaelenmyr         5275\n",
       "da808pc           4769\n",
       "Fire_Lord_Zuko    4206\n",
       "dumbocow          3951\n",
       "Name: score, dtype: int64"
      ]
     },
     "execution_count": 21,
     "metadata": {},
     "output_type": "execute_result"
    }
   ],
   "source": [
    "#making a new dataframe based on the combined scores by author\n",
    "\n",
    "df5 = df4.groupby(\"author\")[\"score\"].sum()\n",
    "df5 = df5.sort_values(ascending = False)\n",
    "df5.head()"
   ]
  },
  {
   "cell_type": "code",
   "execution_count": 22,
   "metadata": {},
   "outputs": [
    {
     "data": {
      "text/plain": [
       "<matplotlib.axes._subplots.AxesSubplot at 0x1967f29a9e8>"
      ]
     },
     "execution_count": 22,
     "metadata": {},
     "output_type": "execute_result"
    },
    {
     "data": {
      "image/png": "[encoded data removed]",
      "text/plain": [
       "<Figure size 432x288 with 1 Axes>"
      ]
     },
     "metadata": {},
     "output_type": "display_data"
    }
   ],
   "source": [
    "#plotting the new dataframe\n",
    "\n",
    "df5[0:10].plot(kind = \"bar\")"
   ]
  },
  {
   "cell_type": "code",
   "execution_count": null,
   "metadata": {},
   "outputs": [],
   "source": []
  }
 ],
 "metadata": {
  "kernelspec": {
   "display_name": "Python 3",
   "language": "python",
   "name": "python3"
  },
  "language_info": {
   "codemirror_mode": {
    "name": "ipython",
    "version": 3
   },
   "file_extension": ".py",
   "mimetype": "text/x-python",
   "name": "python",
   "nbconvert_exporter": "python",
   "pygments_lexer": "ipython3",
   "version": "3.6.5"
  }
 },
 "nbformat": 4,
 "nbformat_minor": 2
}
