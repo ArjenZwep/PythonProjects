{
 "cells": [
  {
   "cell_type": "code",
   "execution_count": 1,
   "metadata": {},
   "outputs": [],
   "source": [
    "#load in relevant library's\n",
    "import pandas as pd\n",
    "from sklearn.feature_extraction.text import CountVectorizer\n",
    "from sklearn.naive_bayes import MultinomialNB\n",
    "from sklearn.model_selection import train_test_split\n",
    "from lxml import html  \n",
    "import requests\n",
    "import csv"
   ]
  },
  {
   "cell_type": "markdown",
   "metadata": {},
   "source": [
    "#### The scraper\n",
    "Note that because we scrape so much it can take 15-20 min, that's why i included the file to CSV. So you only have to load in the CSV. Of course you can still run the code.\n",
    "If you do decide to run the scrapper, please enable the code below the scrapper that saves the DF to csv."
   ]
  },
  {
   "cell_type": "code",
   "execution_count": 65,
   "metadata": {},
   "outputs": [],
   "source": [
    "#Load out the amazon product we want to scrape, in this case it's an water resistant speaker. We use a browser user agent string, this will because otherwise it will start scraping\n",
    "#based on my own IP and then amazon will block me\n",
    "df = pd.DataFrame()\n",
    "#here we put the whole page scrapper in a loop that changes the page id in the url, so now we don't scrape 1 page with 8 reviews, but 700 pages with 8 reviews\n",
    "for i in range(700):\n",
    "    amazon_url = f\"https://www.amazon.com/VicTsing-Wireless-Water-Resistant-Hands-Free-Speakerphone/product-reviews/B00MYYCGKW/ref=cm_cr_getr_d_paging_btm_{i}?ie=UTF8&reviewerType=all_reviews&pageNumber={i}\"\n",
    "\n",
    "    user_agent = \"Mozilla/5.0 (Windows NT 10.0; Win64; x64) AppleWebKit/537.36 (KHTML, like Gecko) Chrome/71.0.3578.98 Safari/537.36\"\n",
    "    \n",
    "    #connect us to the right html of the page\n",
    "    headers = {\"User-Agent\": user_agent}\n",
    "    page = requests.get(amazon_url, headers = headers)\n",
    "    parser = html.fromstring(page.content)\n",
    "    \n",
    "    #here we link every element we want to scrape to the right html element. For now i selected only a few html points. But of course you can scrape every element, like username,\n",
    "    #related pictures and how many people find it usefull\n",
    "    xpath_reviews = '//div[@data-hook=\"review\"]'\n",
    "    xpath_rating  = './/i[@data-hook=\"review-star-rating\"]//text()' \n",
    "    xpath_title   = './/a[@data-hook=\"review-title\"]//text()'\n",
    "    xpath_date    = './/span[@data-hook=\"review-date\"]//text()'\n",
    "    xpath_body    = './/span[@data-hook=\"review-body\"]//text()'\n",
    "    \n",
    "    \n",
    "    #here we put the whole html of the review in a variable then we loop over the body and select every element out of the review we want.\n",
    "    #after that we put the dataelements in a dict and append the dict to our empty dataframe\n",
    "    reviews = parser.xpath(xpath_reviews)\n",
    "    for review in reviews:\n",
    "        rating  = review.xpath(xpath_rating)\n",
    "        title   = review.xpath(xpath_title)\n",
    "        date    = review.xpath(xpath_date)\n",
    "        body    = review.xpath(xpath_body)\n",
    "\n",
    "        review_dict = {'rating': rating,\n",
    "                       'title': title,             \n",
    "                       'date': date,\n",
    "                       'body': body\n",
    "                       }\n",
    "        df = df.append(review_dict, ignore_index=True)"
   ]
  },
  {
   "cell_type": "code",
   "execution_count": 2,
   "metadata": {},
   "outputs": [
    {
     "data": {
      "text/html": [
       "<div>\n",
       "<style scoped>\n",
       "    .dataframe tbody tr th:only-of-type {\n",
       "        vertical-align: middle;\n",
       "    }\n",
       "\n",
       "    .dataframe tbody tr th {\n",
       "        vertical-align: top;\n",
       "    }\n",
       "\n",
       "    .dataframe thead th {\n",
       "        text-align: right;\n",
       "    }\n",
       "</style>\n",
       "<table border=\"1\" class=\"dataframe\">\n",
       "  <thead>\n",
       "    <tr style=\"text-align: right;\">\n",
       "      <th></th>\n",
       "      <th>body</th>\n",
       "      <th>date</th>\n",
       "      <th>rating</th>\n",
       "      <th>title</th>\n",
       "    </tr>\n",
       "  </thead>\n",
       "  <tbody>\n",
       "    <tr>\n",
       "      <th>0</th>\n",
       "      <td>['This is a good deal for the price.  I bought...</td>\n",
       "      <td>['November 12, 2017']</td>\n",
       "      <td>['4.0 out of 5 stars']</td>\n",
       "      <td>['This is a good deal for the price']</td>\n",
       "    </tr>\n",
       "    <tr>\n",
       "      <th>1</th>\n",
       "      <td>[\"[I am changing my review from 5 stars to 3 s...</td>\n",
       "      <td>['January 10, 2018']</td>\n",
       "      <td>['3.0 out of 5 stars']</td>\n",
       "      <td>['Great shower speaker, I use it every day - u...</td>\n",
       "    </tr>\n",
       "    <tr>\n",
       "      <th>2</th>\n",
       "      <td>[\"Exactly what I was looking for... I just wan...</td>\n",
       "      <td>['February 20, 2017']</td>\n",
       "      <td>['5.0 out of 5 stars']</td>\n",
       "      <td>['Made me a shower rock star']</td>\n",
       "    </tr>\n",
       "    <tr>\n",
       "      <th>3</th>\n",
       "      <td>[\"This is my second VicTsing shower speaker in...</td>\n",
       "      <td>['August 3, 2017']</td>\n",
       "      <td>['5.0 out of 5 stars']</td>\n",
       "      <td>['Great sound quality']</td>\n",
       "    </tr>\n",
       "    <tr>\n",
       "      <th>4</th>\n",
       "      <td>['Used it pretty much daily in the shower but ...</td>\n",
       "      <td>['May 9, 2017']</td>\n",
       "      <td>['2.0 out of 5 stars']</td>\n",
       "      <td>['Stopped recharging after about 8 months']</td>\n",
       "    </tr>\n",
       "  </tbody>\n",
       "</table>\n",
       "</div>"
      ],
      "text/plain": [
       "                                                body                   date  \\\n",
       "0  ['This is a good deal for the price.  I bought...  ['November 12, 2017']   \n",
       "1  [\"[I am changing my review from 5 stars to 3 s...   ['January 10, 2018']   \n",
       "2  [\"Exactly what I was looking for... I just wan...  ['February 20, 2017']   \n",
       "3  [\"This is my second VicTsing shower speaker in...     ['August 3, 2017']   \n",
       "4  ['Used it pretty much daily in the shower but ...        ['May 9, 2017']   \n",
       "\n",
       "                   rating                                              title  \n",
       "0  ['4.0 out of 5 stars']              ['This is a good deal for the price']  \n",
       "1  ['3.0 out of 5 stars']  ['Great shower speaker, I use it every day - u...  \n",
       "2  ['5.0 out of 5 stars']                     ['Made me a shower rock star']  \n",
       "3  ['5.0 out of 5 stars']                            ['Great sound quality']  \n",
       "4  ['2.0 out of 5 stars']        ['Stopped recharging after about 8 months']  "
      ]
     },
     "execution_count": 2,
     "metadata": {},
     "output_type": "execute_result"
    }
   ],
   "source": [
    "#df.to_csv(\"Amazonwaterspeaker.csv\", index = False, quotechar='\"') #enable this code when running the scrapper.\n",
    "#opening the datafile and showing the dataframe\n",
    "df2 = pd.read_csv(\"Amazonwaterspeaker.csv\")\n",
    "df = df2\n",
    "df.head()"
   ]
  },
  {
   "cell_type": "code",
   "execution_count": 3,
   "metadata": {},
   "outputs": [],
   "source": [
    "#here we define a function which transform our 1-5 into 2 classes, positive and negative\n",
    "def ratingclass(rating):\n",
    "    if rating == \"['4.0 out of 5 stars']\" or rating == \"['5.0 out of 5 stars']\":\n",
    "        return \"positive\"\n",
    "    else:\n",
    "        return \"negative\"\n",
    "    \n",
    "#apply the function to our dataframe\n",
    "df[\"rating\"] = df[\"rating\"].apply(ratingclass)\n"
   ]
  },
  {
   "cell_type": "code",
   "execution_count": 4,
   "metadata": {},
   "outputs": [
    {
     "data": {
      "text/html": [
       "<div>\n",
       "<style scoped>\n",
       "    .dataframe tbody tr th:only-of-type {\n",
       "        vertical-align: middle;\n",
       "    }\n",
       "\n",
       "    .dataframe tbody tr th {\n",
       "        vertical-align: top;\n",
       "    }\n",
       "\n",
       "    .dataframe thead th {\n",
       "        text-align: right;\n",
       "    }\n",
       "</style>\n",
       "<table border=\"1\" class=\"dataframe\">\n",
       "  <thead>\n",
       "    <tr style=\"text-align: right;\">\n",
       "      <th></th>\n",
       "      <th>body</th>\n",
       "      <th>date</th>\n",
       "      <th>rating</th>\n",
       "      <th>title</th>\n",
       "    </tr>\n",
       "  </thead>\n",
       "  <tbody>\n",
       "    <tr>\n",
       "      <th>0</th>\n",
       "      <td>['This is a good deal for the price.  I bought...</td>\n",
       "      <td>['November 12, 2017']</td>\n",
       "      <td>positive</td>\n",
       "      <td>['This is a good deal for the price']</td>\n",
       "    </tr>\n",
       "    <tr>\n",
       "      <th>1</th>\n",
       "      <td>[\"[I am changing my review from 5 stars to 3 s...</td>\n",
       "      <td>['January 10, 2018']</td>\n",
       "      <td>negative</td>\n",
       "      <td>['Great shower speaker, I use it every day - u...</td>\n",
       "    </tr>\n",
       "    <tr>\n",
       "      <th>2</th>\n",
       "      <td>[\"Exactly what I was looking for... I just wan...</td>\n",
       "      <td>['February 20, 2017']</td>\n",
       "      <td>positive</td>\n",
       "      <td>['Made me a shower rock star']</td>\n",
       "    </tr>\n",
       "    <tr>\n",
       "      <th>3</th>\n",
       "      <td>[\"This is my second VicTsing shower speaker in...</td>\n",
       "      <td>['August 3, 2017']</td>\n",
       "      <td>positive</td>\n",
       "      <td>['Great sound quality']</td>\n",
       "    </tr>\n",
       "    <tr>\n",
       "      <th>4</th>\n",
       "      <td>['Used it pretty much daily in the shower but ...</td>\n",
       "      <td>['May 9, 2017']</td>\n",
       "      <td>negative</td>\n",
       "      <td>['Stopped recharging after about 8 months']</td>\n",
       "    </tr>\n",
       "  </tbody>\n",
       "</table>\n",
       "</div>"
      ],
      "text/plain": [
       "                                                body                   date  \\\n",
       "0  ['This is a good deal for the price.  I bought...  ['November 12, 2017']   \n",
       "1  [\"[I am changing my review from 5 stars to 3 s...   ['January 10, 2018']   \n",
       "2  [\"Exactly what I was looking for... I just wan...  ['February 20, 2017']   \n",
       "3  [\"This is my second VicTsing shower speaker in...     ['August 3, 2017']   \n",
       "4  ['Used it pretty much daily in the shower but ...        ['May 9, 2017']   \n",
       "\n",
       "     rating                                              title  \n",
       "0  positive              ['This is a good deal for the price']  \n",
       "1  negative  ['Great shower speaker, I use it every day - u...  \n",
       "2  positive                     ['Made me a shower rock star']  \n",
       "3  positive                            ['Great sound quality']  \n",
       "4  negative        ['Stopped recharging after about 8 months']  "
      ]
     },
     "execution_count": 4,
     "metadata": {},
     "output_type": "execute_result"
    }
   ],
   "source": [
    "#read out the new dataframe\n",
    "df.head()"
   ]
  },
  {
   "cell_type": "code",
   "execution_count": 5,
   "metadata": {},
   "outputs": [],
   "source": [
    "#here we transform our reviews to a text matrix, so we can use it in our model\n",
    "text = df[\"body\"].values.astype(\"U\")\n",
    "vect = CountVectorizer(stop_words='english').fit(text)\n",
    "matrix = vect.transform(text)"
   ]
  },
  {
   "cell_type": "markdown",
   "metadata": {},
   "source": [
    "#### Bag of words model\n",
    "Here we apply the bag of words model. Which basicly does a count of each word in a review text row. With the goal that we can turn text into usable data for a machine learning model."
   ]
  },
  {
   "cell_type": "code",
   "execution_count": 6,
   "metadata": {},
   "outputs": [],
   "source": [
    "#split our data into train and test set. Our X is the matrix we created from the bag of words model and our Y is the rating class\n",
    "X = matrix\n",
    "y = df[\"rating\"]\n",
    "X_train, X_test, y_train, y_test = train_test_split(X, y, test_size=0.3, random_state=1)"
   ]
  },
  {
   "cell_type": "code",
   "execution_count": 7,
   "metadata": {},
   "outputs": [
    {
     "data": {
      "text/plain": [
       "MultinomialNB(alpha=1.0, class_prior=None, fit_prior=True)"
      ]
     },
     "execution_count": 7,
     "metadata": {},
     "output_type": "execute_result"
    }
   ],
   "source": [
    "#put the train data in our model and train our model.\n",
    "clf = MultinomialNB()\n",
    "clf.fit(X_train, y_train)\n",
    "MultinomialNB(alpha=1.0, class_prior=None, fit_prior=True)"
   ]
  },
  {
   "cell_type": "markdown",
   "metadata": {},
   "source": [
    "#### Naive Bayes classifer model\n",
    "the model we are using is Naïve Bayes. the Naïve Bayes classifer is a supervised machine learning model that classifies based on probabillity. You assign certain conditions to percentages. It then multiplies all the percentages to see what chance each class has. Of course the more conditions you get the better it can calculate the percentages."
   ]
  },
  {
   "cell_type": "code",
   "execution_count": 8,
   "metadata": {},
   "outputs": [
    {
     "data": {
      "text/plain": [
       "0.9199640287769785"
      ]
     },
     "execution_count": 8,
     "metadata": {},
     "output_type": "execute_result"
    }
   ],
   "source": [
    "#calculate our accuracy\n",
    "clf.score(X, y)"
   ]
  },
  {
   "cell_type": "code",
   "execution_count": 9,
   "metadata": {},
   "outputs": [
    {
     "name": "stdout",
     "output_type": "stream",
     "text": [
      "             precision    recall  f1-score   support\n",
      "\n",
      "   negative       0.75      0.62      0.68       287\n",
      "   positive       0.92      0.96      0.94      1381\n",
      "\n",
      "avg / total       0.89      0.90      0.90      1668\n",
      "\n"
     ]
    }
   ],
   "source": [
    "#evaluate our test predictions\n",
    "y_pred = clf.predict(X)\n",
    "from sklearn.metrics import classification_report\n",
    "y_test_pred = clf.predict(X_test)\n",
    "print(classification_report(y_test, y_test_pred))"
   ]
  },
  {
   "cell_type": "markdown",
   "metadata": {},
   "source": [
    "### Evaluating our model\n",
    "We can see that positive reviews are much easier to predict than negative reviews. This makes sense because there are firstly alot more positive reviews than negative.\n",
    "Secondly the most positive reviews are very short and straight to the point. While negative reviews are longer which gives a larger margin of error, because our model only predicts on words and not senteces."
   ]
  },
  {
   "cell_type": "code",
   "execution_count": 10,
   "metadata": {},
   "outputs": [],
   "source": [
    "#predict on our current dataframe, so we can see where it went wrong\n",
    "df[\"prediction\"] = clf.predict(X)"
   ]
  },
  {
   "cell_type": "code",
   "execution_count": 11,
   "metadata": {},
   "outputs": [
    {
     "data": {
      "text/html": [
       "<div>\n",
       "<style scoped>\n",
       "    .dataframe tbody tr th:only-of-type {\n",
       "        vertical-align: middle;\n",
       "    }\n",
       "\n",
       "    .dataframe tbody tr th {\n",
       "        vertical-align: top;\n",
       "    }\n",
       "\n",
       "    .dataframe thead th {\n",
       "        text-align: right;\n",
       "    }\n",
       "</style>\n",
       "<table border=\"1\" class=\"dataframe\">\n",
       "  <thead>\n",
       "    <tr style=\"text-align: right;\">\n",
       "      <th></th>\n",
       "      <th>body</th>\n",
       "      <th>date</th>\n",
       "      <th>rating</th>\n",
       "      <th>title</th>\n",
       "      <th>prediction</th>\n",
       "    </tr>\n",
       "  </thead>\n",
       "  <tbody>\n",
       "    <tr>\n",
       "      <th>0</th>\n",
       "      <td>['This is a good deal for the price.  I bought...</td>\n",
       "      <td>['November 12, 2017']</td>\n",
       "      <td>positive</td>\n",
       "      <td>['This is a good deal for the price']</td>\n",
       "      <td>positive</td>\n",
       "    </tr>\n",
       "    <tr>\n",
       "      <th>1</th>\n",
       "      <td>[\"[I am changing my review from 5 stars to 3 s...</td>\n",
       "      <td>['January 10, 2018']</td>\n",
       "      <td>negative</td>\n",
       "      <td>['Great shower speaker, I use it every day - u...</td>\n",
       "      <td>negative</td>\n",
       "    </tr>\n",
       "    <tr>\n",
       "      <th>2</th>\n",
       "      <td>[\"Exactly what I was looking for... I just wan...</td>\n",
       "      <td>['February 20, 2017']</td>\n",
       "      <td>positive</td>\n",
       "      <td>['Made me a shower rock star']</td>\n",
       "      <td>positive</td>\n",
       "    </tr>\n",
       "    <tr>\n",
       "      <th>3</th>\n",
       "      <td>[\"This is my second VicTsing shower speaker in...</td>\n",
       "      <td>['August 3, 2017']</td>\n",
       "      <td>positive</td>\n",
       "      <td>['Great sound quality']</td>\n",
       "      <td>negative</td>\n",
       "    </tr>\n",
       "    <tr>\n",
       "      <th>4</th>\n",
       "      <td>['Used it pretty much daily in the shower but ...</td>\n",
       "      <td>['May 9, 2017']</td>\n",
       "      <td>negative</td>\n",
       "      <td>['Stopped recharging after about 8 months']</td>\n",
       "      <td>negative</td>\n",
       "    </tr>\n",
       "  </tbody>\n",
       "</table>\n",
       "</div>"
      ],
      "text/plain": [
       "                                                body                   date  \\\n",
       "0  ['This is a good deal for the price.  I bought...  ['November 12, 2017']   \n",
       "1  [\"[I am changing my review from 5 stars to 3 s...   ['January 10, 2018']   \n",
       "2  [\"Exactly what I was looking for... I just wan...  ['February 20, 2017']   \n",
       "3  [\"This is my second VicTsing shower speaker in...     ['August 3, 2017']   \n",
       "4  ['Used it pretty much daily in the shower but ...        ['May 9, 2017']   \n",
       "\n",
       "     rating                                              title prediction  \n",
       "0  positive              ['This is a good deal for the price']   positive  \n",
       "1  negative  ['Great shower speaker, I use it every day - u...   negative  \n",
       "2  positive                     ['Made me a shower rock star']   positive  \n",
       "3  positive                            ['Great sound quality']   negative  \n",
       "4  negative        ['Stopped recharging after about 8 months']   negative  "
      ]
     },
     "execution_count": 11,
     "metadata": {},
     "output_type": "execute_result"
    }
   ],
   "source": [
    "#show our new dataframe with predictions so we can analyse specific cases\n",
    "df.head()"
   ]
  },
  {
   "cell_type": "markdown",
   "metadata": {},
   "source": [
    "#### Looking at the cases that were predicted wrong\n",
    "Here we look at 3 reviews which were predicted wrong and why. You don't have to fully read the reviews and can just skip to the why it was wrong sections explain it. The 3 reviews i chose were:\n",
    "\n",
    "13: I like the product, and it serves its purpose of being a shower bluetooth speaker with solid range, but the carabiner hook broke within a day which I wasn\\'t too happy with, and the design is somewhat flawed.\", \\'Cons\\', \\'- The carabiner hook broke as soon as I tried to attach it to a command hook, and the quality of the carabiner was also very shoddy\\', \"- The skip song/previous song buttons are the same as the volume buttons so sometimes when I\\'m trying to increase the volume I skip the song instead\", \"- There\\'s no indicator to how much battery you have left\", \\'- It take awhile to shut the speaker off while pressing down the power button\\', \\'Pros\\', \"+ Price: This is a solid speaker for the price you pay for it. It serves the purpose that I needed which was just playing music in my shower. I\\'ve accidentally splashed some water on it, and nothing bad happened\", \\'+ Pairs quickly to computer or phone with good range\\', \"+ Audio quality is good enough for my needs (haven\\'t tried phone function yet.\n",
    "\n",
    "Why it was wrong: 13 is falsely rated positive. I think this is because there are alot of words within the range of like and quality, which are very common in the positive reviews. It gives some credit to the speaker, but then explains everything wrong with it, but with critisim not with bad buzzwords like garbage or bad.\n",
    "\n",
    "28: So, I bought this speaker because I love listening to music while I\\'m showering. It\\'s just so peaceful. After seeing so many awesome reviews, I thought I\\'d love it. Yeah, no. Not so much...\", \"PROS: It is actually waterproof and is very water resistant. It\\'s not made of cheap plastic and is durable. The selection has different colors and it is sturdy. This is not battery operated and it charges via USB cord that comes inside the box. It pairs very easily with your device, within seconds. The speaker notifies you that it is turned on or is turning off with a voice.\", \"CONS: The suction cup is extremely weak and couldn\\'t hold the speaker to the inside of my shower. It\\'s only tile! The sound quality is not great. The music can be blasted and it\\'s still hard to make out the words in the song. Blurry output... This takes forever to dry. Only when it\\'s dry is the sound quality at its best, which defeats the purpose of a \\'Bluetooth shower speaker\\'. The voice that tells you whether the device is on or turning off is so loud and there is no way of controlling the volume of this. My phone was no more than two feet away from the speaker and it kept breaking up. My phone said that the signal was strong, so it wasn\\'t that. It was the overall quality of the speaker. It\\'s frustrating having to wonder when the next break in the song will be. Nothing very peaceful about that...\", \"I would give this product 2.5 stars, but I am so disappointed with it that I refuse to give it the second half to make it 3 stars, so it\\'s staying at 2. Hopefully this company moves on to making other products because speakers are not their strong point.\", \"This product is worth testing personally if you find a good deal. I hope that it was just my luck with this speaker and all those great reviews are from customers who actually loved it. Whether or not you decide to keep it, Amazon\\'s customer service is great! I had it shipped back a day after my complaint.\", \"So, it looks like I\\'m back to singing in the shower. Good luck to everyone who is trying to solve the same issue. Lol\", \"UPDATE: After I had returned this product back to the Amazon, I was asked if I would consider buying another speaker of a different brand. I had already purchased a new speaker to replace this one because I was not fond of the quality. It has now been a while since I returned the speaker and I am receiving emails from the seller, VicTsing, itself. Because of its attempts to settle a dispute between one of its products and a customer, I have raised my review one star. Yes, I am still disappointed with the product that I had purchased; yet, I am overly satisfied with the company\\'s customer service. They are polite, attentive, helpful and genuinely eager to satisfy the customer\\'s needs. For this, I thank you.\n",
    "\n",
    "Why it was wrong: Here we can see the same problem, it can't believe why there are so many great reviews and why people are so positive. This of course are already alot of good buzzwords. In this review we can also see the problem with bag of words. She saying \"not great\" and \"disapointed with the quality\" but of course the algortihm counts great and quality as positive buzzwords, because it interprets words and not sentences.\n",
    "\n",
    "29: My daughters love their speakers. Mainly bought them for when they travel for competition. they can stick these speakers on the bus window and it\\'s good to go. No one has to worry about holding the speaker or having it fall off. The suction lasts a long time - hours. Because the speakers are waterproof, it is okay to hang on their backpacks even when it rains. Perfect size speaker. Charge lasts long too. Easy to use.\", \\'Update 3 mo after purchase: One of the speakers the power button no longer works. The sound is off too. Basically, when it worked it was GREAT. The other speaker still works and my daughter uses it constantly. Maybe the second speaker was just a bad buy. My daughter with the not working speaker wants me to order another for her cause she really liked it. So... what to do? Order one more and keep all the packaging because if this one stops working - I am returning to Amazon!\n",
    "\n",
    "Why it was wrong: In the last one is the most obivous in getting it wrong. She was firstly very positive about the product, but the quality soon declined and she updated here review into negative. I think one of these reviews is the hardest to ever get right for a text mining model and will almost always be classifed wrong.\n"
   ]
  },
  {
   "cell_type": "code",
   "execution_count": null,
   "metadata": {},
   "outputs": [],
   "source": []
  }
 ],
 "metadata": {
  "kernelspec": {
   "display_name": "Python 3",
   "language": "python",
   "name": "python3"
  },
  "language_info": {
   "codemirror_mode": {
    "name": "ipython",
    "version": 3
   },
   "file_extension": ".py",
   "mimetype": "text/x-python",
   "name": "python",
   "nbconvert_exporter": "python",
   "pygments_lexer": "ipython3",
   "version": "3.6.5"
  }
 },
 "nbformat": 4,
 "nbformat_minor": 2
}
