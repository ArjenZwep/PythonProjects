{
 "cells": [
  {
   "cell_type": "code",
   "execution_count": 2,
   "metadata": {},
   "outputs": [],
   "source": [
    "#import the right library's\n",
    "import seaborn as sns\n",
    "import sklearn as sk\n",
    "import pandas as pd\n",
    "import matplotlib.pyplot as plt\n",
    "from sklearn.model_selection import train_test_split #We need this to split the data"
   ]
  },
  {
   "cell_type": "code",
   "execution_count": 3,
   "metadata": {},
   "outputs": [],
   "source": [
    "#import our dataset which has the number stats of all the players, the dataset we want for training the model. I had to convert the dtype, because not all collumns where the same type.\n",
    "df = pd.read_csv(\"PlayerAttributeData.csv\", dtype = \"a\")"
   ]
  },
  {
   "cell_type": "code",
   "execution_count": 4,
   "metadata": {},
   "outputs": [],
   "source": [
    "#read the position set, this is the thing we want to predict\n",
    "df2 = pd.read_csv(\"PlayerPlayingPositionData.csv\", dtype = \"a\")\n",
    "\n",
    "#we only want the prefferd position collumn from this dataset and of course the id collunm to later merge the datasets\n",
    "df2 = df2[[\"Preferred Positions\", \"Unnamed: 0\"]]"
   ]
  },
  {
   "cell_type": "code",
   "execution_count": 5,
   "metadata": {},
   "outputs": [
    {
     "data": {
      "text/html": [
       "<div>\n",
       "<style scoped>\n",
       "    .dataframe tbody tr th:only-of-type {\n",
       "        vertical-align: middle;\n",
       "    }\n",
       "\n",
       "    .dataframe tbody tr th {\n",
       "        vertical-align: top;\n",
       "    }\n",
       "\n",
       "    .dataframe thead th {\n",
       "        text-align: right;\n",
       "    }\n",
       "</style>\n",
       "<table border=\"1\" class=\"dataframe\">\n",
       "  <thead>\n",
       "    <tr style=\"text-align: right;\">\n",
       "      <th></th>\n",
       "      <th>Unnamed: 0</th>\n",
       "      <th>Acceleration</th>\n",
       "      <th>Aggression</th>\n",
       "      <th>Agility</th>\n",
       "      <th>Balance</th>\n",
       "      <th>Ball control</th>\n",
       "      <th>Composure</th>\n",
       "      <th>Crossing</th>\n",
       "      <th>Curve</th>\n",
       "      <th>Dribbling</th>\n",
       "      <th>...</th>\n",
       "      <th>Short passing</th>\n",
       "      <th>Shot power</th>\n",
       "      <th>Sliding tackle</th>\n",
       "      <th>Sprint speed</th>\n",
       "      <th>Stamina</th>\n",
       "      <th>Standing tackle</th>\n",
       "      <th>Strength</th>\n",
       "      <th>Vision</th>\n",
       "      <th>Volleys</th>\n",
       "      <th>Preferred Positions</th>\n",
       "    </tr>\n",
       "  </thead>\n",
       "  <tbody>\n",
       "    <tr>\n",
       "      <th>0</th>\n",
       "      <td>0</td>\n",
       "      <td>89</td>\n",
       "      <td>63</td>\n",
       "      <td>89</td>\n",
       "      <td>63</td>\n",
       "      <td>93</td>\n",
       "      <td>95</td>\n",
       "      <td>85</td>\n",
       "      <td>81</td>\n",
       "      <td>91</td>\n",
       "      <td>...</td>\n",
       "      <td>83</td>\n",
       "      <td>94</td>\n",
       "      <td>23</td>\n",
       "      <td>91</td>\n",
       "      <td>92</td>\n",
       "      <td>31</td>\n",
       "      <td>80</td>\n",
       "      <td>85</td>\n",
       "      <td>88</td>\n",
       "      <td>ST LW</td>\n",
       "    </tr>\n",
       "    <tr>\n",
       "      <th>1</th>\n",
       "      <td>1</td>\n",
       "      <td>92</td>\n",
       "      <td>48</td>\n",
       "      <td>90</td>\n",
       "      <td>95</td>\n",
       "      <td>95</td>\n",
       "      <td>96</td>\n",
       "      <td>77</td>\n",
       "      <td>89</td>\n",
       "      <td>97</td>\n",
       "      <td>...</td>\n",
       "      <td>88</td>\n",
       "      <td>85</td>\n",
       "      <td>26</td>\n",
       "      <td>87</td>\n",
       "      <td>73</td>\n",
       "      <td>28</td>\n",
       "      <td>59</td>\n",
       "      <td>90</td>\n",
       "      <td>85</td>\n",
       "      <td>RW</td>\n",
       "    </tr>\n",
       "    <tr>\n",
       "      <th>2</th>\n",
       "      <td>2</td>\n",
       "      <td>94</td>\n",
       "      <td>56</td>\n",
       "      <td>96</td>\n",
       "      <td>82</td>\n",
       "      <td>95</td>\n",
       "      <td>92</td>\n",
       "      <td>75</td>\n",
       "      <td>81</td>\n",
       "      <td>96</td>\n",
       "      <td>...</td>\n",
       "      <td>81</td>\n",
       "      <td>80</td>\n",
       "      <td>33</td>\n",
       "      <td>90</td>\n",
       "      <td>78</td>\n",
       "      <td>24</td>\n",
       "      <td>53</td>\n",
       "      <td>80</td>\n",
       "      <td>83</td>\n",
       "      <td>LW</td>\n",
       "    </tr>\n",
       "    <tr>\n",
       "      <th>3</th>\n",
       "      <td>3</td>\n",
       "      <td>88</td>\n",
       "      <td>78</td>\n",
       "      <td>86</td>\n",
       "      <td>60</td>\n",
       "      <td>91</td>\n",
       "      <td>83</td>\n",
       "      <td>77</td>\n",
       "      <td>86</td>\n",
       "      <td>86</td>\n",
       "      <td>...</td>\n",
       "      <td>83</td>\n",
       "      <td>87</td>\n",
       "      <td>38</td>\n",
       "      <td>77</td>\n",
       "      <td>89</td>\n",
       "      <td>45</td>\n",
       "      <td>80</td>\n",
       "      <td>84</td>\n",
       "      <td>88</td>\n",
       "      <td>ST</td>\n",
       "    </tr>\n",
       "    <tr>\n",
       "      <th>4</th>\n",
       "      <td>4</td>\n",
       "      <td>58</td>\n",
       "      <td>29</td>\n",
       "      <td>52</td>\n",
       "      <td>35</td>\n",
       "      <td>48</td>\n",
       "      <td>70</td>\n",
       "      <td>15</td>\n",
       "      <td>14</td>\n",
       "      <td>30</td>\n",
       "      <td>...</td>\n",
       "      <td>55</td>\n",
       "      <td>25</td>\n",
       "      <td>11</td>\n",
       "      <td>61</td>\n",
       "      <td>44</td>\n",
       "      <td>10</td>\n",
       "      <td>83</td>\n",
       "      <td>70</td>\n",
       "      <td>11</td>\n",
       "      <td>GK</td>\n",
       "    </tr>\n",
       "  </tbody>\n",
       "</table>\n",
       "<p>5 rows × 37 columns</p>\n",
       "</div>"
      ],
      "text/plain": [
       "  Unnamed: 0 Acceleration Aggression Agility Balance Ball control Composure  \\\n",
       "0          0           89         63      89      63           93        95   \n",
       "1          1           92         48      90      95           95        96   \n",
       "2          2           94         56      96      82           95        92   \n",
       "3          3           88         78      86      60           91        83   \n",
       "4          4           58         29      52      35           48        70   \n",
       "\n",
       "  Crossing Curve Dribbling         ...         Short passing Shot power  \\\n",
       "0       85    81        91         ...                    83         94   \n",
       "1       77    89        97         ...                    88         85   \n",
       "2       75    81        96         ...                    81         80   \n",
       "3       77    86        86         ...                    83         87   \n",
       "4       15    14        30         ...                    55         25   \n",
       "\n",
       "  Sliding tackle Sprint speed Stamina Standing tackle Strength Vision Volleys  \\\n",
       "0             23           91      92              31       80     85      88   \n",
       "1             26           87      73              28       59     90      85   \n",
       "2             33           90      78              24       53     80      83   \n",
       "3             38           77      89              45       80     84      88   \n",
       "4             11           61      44              10       83     70      11   \n",
       "\n",
       "  Preferred Positions  \n",
       "0              ST LW   \n",
       "1                 RW   \n",
       "2                 LW   \n",
       "3                 ST   \n",
       "4                 GK   \n",
       "\n",
       "[5 rows x 37 columns]"
      ]
     },
     "execution_count": 5,
     "metadata": {},
     "output_type": "execute_result"
    }
   ],
   "source": [
    "#now we merge the two datasets to get our final dataset\n",
    "df = pd.merge(df, df2, on = \"Unnamed: 0\")\n",
    "\n",
    "#to see our final dataset\n",
    "df.head()"
   ]
  },
  {
   "cell_type": "markdown",
   "metadata": {},
   "source": [
    "I've decided to only use this player data and not the qualitive variables that are in the other data set. Reason being that the most influence for a player position is how good certain skills are. Demographs found in the other dataset will not be more valuable for the model."
   ]
  },
  {
   "cell_type": "code",
   "execution_count": 66,
   "metadata": {},
   "outputs": [],
   "source": [
    "#apparently there are some stats in the database which are actually strings with for example 72+2 instead of just 74. \n",
    "#So we have to apply a function which fixes this problem. otherwise we can't fit our model, because it doesn't accept strings.\n",
    "def fix(x):\n",
    "    x = str(x)\n",
    "    if('+' in x):\n",
    "        calc = x.split('+')\n",
    "        return int(calc[0]) + int(calc[1])\n",
    "    elif('-' in x):\n",
    "        calc = x.split('-')\n",
    "        return int(calc[0]) + int(calc[1])\n",
    "    elif x.isdigit():\n",
    "        return int(x)\n",
    "    else:\n",
    "         return int(0)\n",
    "for column in df.loc[:, \"Acceleration\" : \"Volleys\"]:\n",
    "    df[column] = df[column].apply(fix)\n",
    "\n",
    "#Here we also remove the all the extra posistions, so we just get our main class posistion    \n",
    "df[\"Preferred Positions\"]= df[\"Preferred Positions\"].str.split(\" \", n = 1, expand = True)"
   ]
  },
  {
   "cell_type": "code",
   "execution_count": 67,
   "metadata": {},
   "outputs": [],
   "source": [
    "#import the randomforst model\n",
    "from sklearn.ensemble import RandomForestClassifier\n",
    "from sklearn.datasets import make_classification"
   ]
  },
  {
   "cell_type": "markdown",
   "metadata": {},
   "source": [
    "#### Random forest model\n",
    "\n",
    "I am going to use the random forest algorithm for my model. Random forest is a alhorithm which combines the statistics desicion tree model and combines this with computing power.\n",
    "The algorithm makes multipile decision trees and decides on a popularity vote from all the trees which classifcation it gets.\n",
    "\n",
    "My reason for using the random forest tree is pretty simple, i was intrueged by it, because it looks to me that it can make very powerfull predictions. So i just want experience with this model, because of it market standards. Secondly i think this algorithm will get the highest prediction scores (i know it doesn't matter for this exercise, but it matters in the real world)"
   ]
  },
  {
   "cell_type": "code",
   "execution_count": 68,
   "metadata": {},
   "outputs": [],
   "source": [
    "#split the model in test and train sets so we can do predictions, also create the Y and X values.\n",
    "X = df[[\"Sliding tackle\", \"Finishing\", \"Crossing\", \"GK reflexes\", \"Free kick accuracy\", \"Curve\", \"Heading accuracy\"]]\n",
    "y = df[\"Preferred Positions\"]\n",
    "X_train, X_test, y_train, y_test = train_test_split(X, y, test_size=0.3, random_state=1)"
   ]
  },
  {
   "cell_type": "markdown",
   "metadata": {},
   "source": [
    "#### Choosing the variables\n",
    "Note: Normally you want to normalize your X variables so they all can have same influence when predicting. However we don't have to do that on this dataset, because fifa already makes all possible skills on scale from 1 - 100. So everything is already in the same scale.\n",
    "\n",
    "In a perfect world we would just use all the attribute data in our model, because more data is a better prediction in this case. Every variable gives more insights about what attributes make someone good for a certain desicion. Unfortunately we have to choose 7 now, so what i did was look at the dataset. I then picked the 7 variables that had the most outlying data between 1-100. Because some things like vision, every player has that good till semi-good, so it doens't help the model alot with helping to categorize the different posisitions. While things like tackeling are only skills a good defense player needs, so these attributes will help te model alot. The following variables are the attributes which are only really needed for certain posistions:\n",
    "\n",
    "1. Sliding tackle\n",
    "2. Finishing\n",
    "3. Crossing\n",
    "4. GK reflexes\n",
    "5. Free kick accuracy\n",
    "6. Curve\n",
    "7. Heading accuracy"
   ]
  },
  {
   "cell_type": "code",
   "execution_count": 69,
   "metadata": {},
   "outputs": [],
   "source": [
    "#fit our model\n",
    "clf = RandomForestClassifier(n_estimators=50, max_features = \"auto\")\n",
    "clf = clf.fit(X_train, y_train)"
   ]
  },
  {
   "cell_type": "code",
   "execution_count": 70,
   "metadata": {},
   "outputs": [],
   "source": [
    "#import our evaluation functions\n",
    "from sklearn.metrics import precision_score\n",
    "from sklearn.metrics import recall_score"
   ]
  },
  {
   "cell_type": "code",
   "execution_count": 71,
   "metadata": {},
   "outputs": [
    {
     "data": {
      "text/plain": [
       "0.5086190917516219"
      ]
     },
     "execution_count": 71,
     "metadata": {},
     "output_type": "execute_result"
    }
   ],
   "source": [
    "clf.score(X_test, y_test)"
   ]
  },
  {
   "cell_type": "markdown",
   "metadata": {},
   "source": [
    "#### Evaluating our model (1/2)\n",
    "Our accuracy is between 0.50861 - 0,51032, which is pretty good. I dabbled around with different settings, but these seem to be the most optimal. Adding trees will increase the score a little bit more. But i have found that from 50 the score only gets improved a insignificent amount. So to keep the preformance steady i choose 50 as our optimal number of trees. I also changed around the max_features, but these would only decrease the score while not really doing something with the speed of the calculations."
   ]
  },
  {
   "cell_type": "code",
   "execution_count": 72,
   "metadata": {},
   "outputs": [
    {
     "name": "stdout",
     "output_type": "stream",
     "text": [
      "             precision    recall  f1-score   support\n",
      "\n",
      "        CAM       0.29      0.20      0.24       371\n",
      "         CB       0.70      0.82      0.75       838\n",
      "        CDM       0.26      0.22      0.24       431\n",
      "         CF       0.46      0.08      0.13        77\n",
      "         CM       0.36      0.48      0.41       609\n",
      "         GK       1.00      1.00      1.00       600\n",
      "         LB       0.37      0.36      0.37       407\n",
      "         LM       0.23      0.25      0.24       353\n",
      "         LW       0.25      0.05      0.08       122\n",
      "        LWB       1.00      0.04      0.07        28\n",
      "         RB       0.28      0.30      0.29       319\n",
      "         RM       0.26      0.22      0.24       411\n",
      "         RW       0.19      0.04      0.07       137\n",
      "        RWB       0.00      0.00      0.00        34\n",
      "         ST       0.66      0.85      0.74       658\n",
      "\n",
      "avg / total       0.48      0.51      0.48      5395\n",
      "\n"
     ]
    }
   ],
   "source": [
    "#Get per class the the precision, recall and F1-score(which is the balance between recall and precision)\n",
    "from sklearn.metrics import classification_report\n",
    "y_test_pred = clf.predict(X_test)\n",
    "print(classification_report(y_test, y_test_pred))"
   ]
  },
  {
   "cell_type": "markdown",
   "metadata": {},
   "source": [
    "#### evaluating our model (2/2)\n",
    "Here we can see the different scores for different predictions. We can see that by far the goalkeeper is de easiest score to predict. Which makes sense because the goalkeeper has speficic skills only needed for goalkeepers. We can see our worst is right wing back, this is because it's not really different from right back and because of this has a really low sample size. We can also see a correaltion between how much instances the class has versus how good it is predicted. Of course this makes sense because those classes just get more data to make more accurate decisions. \n",
    "\n",
    "We can also see that for positions which have more players they usually have higher recall, while the more obscure positions have a higher precision. This makes sense because more cases when in doubt get thrown into the more popular positions, causing them to have higher recall, but lower precision."
   ]
  },
  {
   "cell_type": "code",
   "execution_count": null,
   "metadata": {},
   "outputs": [],
   "source": []
  }
 ],
 "metadata": {
  "kernelspec": {
   "display_name": "Python 3",
   "language": "python",
   "name": "python3"
  },
  "language_info": {
   "codemirror_mode": {
    "name": "ipython",
    "version": 3
   },
   "file_extension": ".py",
   "mimetype": "text/x-python",
   "name": "python",
   "nbconvert_exporter": "python",
   "pygments_lexer": "ipython3",
   "version": "3.6.5"
  }
 },
 "nbformat": 4,
 "nbformat_minor": 2
}
