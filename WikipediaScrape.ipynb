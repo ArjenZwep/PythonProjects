{
 "cells": [
  {
   "cell_type": "code",
   "execution_count": 52,
   "metadata": {},
   "outputs": [
    {
     "name": "stdout",
     "output_type": "stream",
     "text": [
      "Alright you want the page amsterdam displayed in nl\n"
     ]
    }
   ],
   "source": [
    "#import scraping tools\n",
    "import requests\n",
    "import json\n",
    "from IPython.display import display, HTML, Image\n",
    "\n",
    "valid = 1\n",
    "#ask for wikipage and language\n",
    "while valid != 200:\n",
    "    url_input = input(\"What article do you want? \")\n",
    "    url_input = url_input.strip().replace(\" \", \"_\")\n",
    "    language = input(\"In what language would you like to scrape your data?\")\n",
    "    language = language.strip().lower()\n",
    "    print(f\"Alright you want the page {url_input} displayed in {language}\")\n",
    "\n",
    "    #checking if the wikipage is available\n",
    "    url = f\"https://{language}.wikipedia.org/api/rest_v1/page/summary/{url_input}\"\n",
    "    req = requests.get(url)\n",
    "    valid = req.status_code\n",
    "    if req.status_code != 200:\n",
    "        print(\"Error, could not load the page, try again\")"
   ]
  },
  {
   "cell_type": "code",
   "execution_count": 53,
   "metadata": {},
   "outputs": [
    {
     "name": "stdout",
     "output_type": "stream",
     "text": [
      "Succes in scraping the data!\n",
      "Amsterdam\n",
      "Amsterdam is de (titulaire) hoofdstad en naar inwonertal de grootste gemeente van Nederland. De stad, in het Amsterdams ook Mokum genoemd, ligt in de provincie Noord-Holland, aan het IJ, het Noordzeekanaal en de monding van de Amstel. De gemeente Amsterdam telt 859.732 inwoners. Groot-Amsterdam telde eind 2016 1.344.659 inwoners. Het aantal verschillende nationaliteiten in de gemeente behoort tot de hoogste ter wereld.\n"
     ]
    }
   ],
   "source": [
    "print(\"Succes in scraping the data!\")\n",
    "\n",
    "data = json.loads(req.text)\n",
    "print(data[\"title\"])\n",
    "print(data[\"extract\"])"
   ]
  },
  {
   "cell_type": "code",
   "execution_count": 54,
   "metadata": {},
   "outputs": [
    {
     "data": {
      "image/png": "[encoded data removed]",
      "text/plain": [
       "<IPython.core.display.Image object>"
      ]
     },
     "metadata": {},
     "output_type": "display_data"
    }
   ],
   "source": [
    "#displaying the picture\n",
    "if \"thumbnail\" in data:\n",
    "    picture = data[\"thumbnail\"][\"source\"]\n",
    "    img = Image(picture)\n",
    "    display(img)\n",
    "else:\n",
    "    print(\"error this page has no picture\")"
   ]
  },
  {
   "cell_type": "code",
   "execution_count": 55,
   "metadata": {},
   "outputs": [
    {
     "data": {
      "text/html": [
       "<a href=http://maps.google.com/?q=@52.36666667,4.9>URL : http://maps.google.com/?q=@52.36666667,4.9</a>"
      ],
      "text/plain": [
       "<IPython.core.display.HTML object>"
      ]
     },
     "metadata": {},
     "output_type": "display_data"
    }
   ],
   "source": [
    "#displaying location\n",
    "if \"coordinates\" in data:\n",
    "    lat = data[\"coordinates\"][\"lat\"]\n",
    "    lon = data[\"coordinates\"][\"lon\"]\n",
    "    maps = f\"http://maps.google.com/?q=@{lat},{lon}\"\n",
    "    display(HTML(\"<a href=\" + maps + \">URL : \" + maps + \"</a>\"))\n",
    "else:\n",
    "    print(\"this page does not have a location\")"
   ]
  },
  {
   "cell_type": "code",
   "execution_count": 56,
   "metadata": {},
   "outputs": [
    {
     "name": "stdout",
     "output_type": "stream",
     "text": [
      "succesfully loaded related pages\n"
     ]
    }
   ],
   "source": [
    "#searching the related pages\n",
    "url_related = f\"https://{language}.wikipedia.org/api/rest_v1/page/related/{url_input}\"\n",
    "req_related = requests.get(url_related)\n",
    "valid_related = req_related.status_code\n",
    "if req_related.status_code != 200:\n",
    "    print(\"Error, could not load the page, try again\")\n",
    "else:\n",
    "    print(\"succesfully loaded related pages\")"
   ]
  },
  {
   "cell_type": "code",
   "execution_count": 57,
   "metadata": {},
   "outputs": [],
   "source": [
    "#getting related pages into a list\n",
    "data_related = json.loads(req_related.text)\n",
    "index = 0\n",
    "list_related = [\"\",\"\",\"\"]\n",
    "while index < 3:\n",
    "    list_related[index] = data_related[\"pages\"][index]\n",
    "    index = index + 1"
   ]
  },
  {
   "cell_type": "code",
   "execution_count": 63,
   "metadata": {},
   "outputs": [
    {
     "name": "stdout",
     "output_type": "stream",
     "text": [
      "Title : Amstel_(rivier)\n",
      "Despriction : De Amstel is een gekanaliseerde rivier in het zuiden van Noord-Holland, voor een deel op de grens van Noord-Holland met Zuid-Holland en Utrecht. Het gebied langs de rivier wordt aangeduid als Amstelland. Amsterdam heeft zijn naam te danken aan de Amstel.\n"
     ]
    },
    {
     "data": {
      "text/html": [
       "<a href=https://nl.wikipedia.org/wiki/Amstel_(rivier)>URL: https://nl.wikipedia.org/wiki/Amstel_(rivier)</a>"
      ],
      "text/plain": [
       "<IPython.core.display.HTML object>"
      ]
     },
     "metadata": {},
     "output_type": "display_data"
    },
    {
     "name": "stdout",
     "output_type": "stream",
     "text": [
      "Title : IJ_(rivier)\n",
      "Despriction : Het IJ is een rivier, voorheen een zeearm, in Noord-Holland. Het eigenlijke IJ of Binnen-IJ scheidt de Amsterdamse binnenstad van Amsterdam-Noord, en was oorspronkelijk een uitloper van de Zuiderzee. De naam IJ is verwant aan het (West-)Friese Ae, Ee of Die. Dit betekent 'water'.\n"
     ]
    },
    {
     "data": {
      "text/html": [
       "<a href=https://nl.wikipedia.org/wiki/IJ_(rivier)>URL: https://nl.wikipedia.org/wiki/IJ_(rivier)</a>"
      ],
      "text/plain": [
       "<IPython.core.display.HTML object>"
      ]
     },
     "metadata": {},
     "output_type": "display_data"
    },
    {
     "name": "stdout",
     "output_type": "stream",
     "text": [
      "Title : Rietlanden_(Amsterdam)\n",
      "Despriction : De Rietlanden is de naam van een vroeger rangeerterrein van de Nederlandse Spoorwegen in het Oostelijk Havengebied van Amsterdam, in het stadsdeel Oost. De naam is ontleend aan vroegere buitendijkse rietlanden aan de zuidelijke oever van het IJ. Nadat het terrein was aangeplempt is hier in het laatste kwart van de 19e eeuw een locomotievendepot en rangeerterrein aangelegd.\n"
     ]
    },
    {
     "data": {
      "text/html": [
       "<a href=https://nl.wikipedia.org/wiki/Rietlanden_(Amsterdam)>URL: https://nl.wikipedia.org/wiki/Rietlanden_(Amsterdam)</a>"
      ],
      "text/plain": [
       "<IPython.core.display.HTML object>"
      ]
     },
     "metadata": {},
     "output_type": "display_data"
    }
   ],
   "source": [
    "#looping through related pages list and displaying contents\n",
    "index2 = 0\n",
    "prop_title = []\n",
    "for page in list_related:\n",
    "    prop_title.append({\"title\": list_related[index2][\"title\"], \n",
    "                       \"description\" : list_related[index2][\"extract\"], \n",
    "                       \"url\" : list_related[index2][\"content_urls\"][\"desktop\"][\"page\"] })\n",
    "    print(\"Title : \" + prop_title[index2][\"title\"])\n",
    "    print(\"Despriction : \" + prop_title[index2][\"description\"])\n",
    "    display(HTML(\"<a href=\" + prop_title[index2][\"url\"] + \">\" + \"URL: \" + prop_title[index2][\"url\"] + \"</a>\"))\n",
    "    index2 = index2 + 1\n"
   ]
  },
  {
   "cell_type": "code",
   "execution_count": null,
   "metadata": {},
   "outputs": [],
   "source": []
  },
  {
   "cell_type": "code",
   "execution_count": null,
   "metadata": {},
   "outputs": [],
   "source": []
  }
 ],
 "metadata": {
  "kernelspec": {
   "display_name": "Python 3",
   "language": "python",
   "name": "python3"
  },
  "language_info": {
   "codemirror_mode": {
    "name": "ipython",
    "version": 3
   },
   "file_extension": ".py",
   "mimetype": "text/x-python",
   "name": "python",
   "nbconvert_exporter": "python",
   "pygments_lexer": "ipython3",
   "version": "3.6.5"
  }
 },
 "nbformat": 4,
 "nbformat_minor": 2
}
